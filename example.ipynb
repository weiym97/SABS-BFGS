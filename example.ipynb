{
 "cells": [
  {
   "cell_type": "code",
   "execution_count": null,
   "metadata": {
    "collapsed": true
   },
   "outputs": [],
   "source": [
    "import numpy as np\n"
   ]
  },
  {
   "cell_type": "code",
   "execution_count": null,
   "outputs": [],
   "source": [
    "class Resenbrock():\n",
    "    def __init__(self,a=1,b=100):\n",
    "        self.a = a\n",
    "        self.b = b\n",
    "        self.usage = 0\n",
    "\n",
    "    def fun(self,x):\n",
    "        self.usage += 1\n",
    "        return (self.a - x[0]) ** 2 + self.b * (x[1] - x[0] ** 2) ** 2\n",
    "\n",
    "    def fun_2D(self,x,y):\n",
    "        return (self.a - x) ** 2 + self.b * (y - x ** 2) ** 2\n",
    "\n",
    "    def Jacobi(self,x):\n",
    "        f_1 = 2 * (x[0] - self.a) + 4 * self.b * x[0] * (x[0] ** 2 -x[1])\n",
    "        f_2 = 2 * self.b * (x[1] -x[0] ** 2)\n",
    "        return np.array([f_1,f_2])\n",
    "\n",
    "    def Jacobi_2D(self,x,y):\n",
    "        f_1 = 2 * (x - self.a) + 4 * self.b * x * (x ** 2 - y)\n",
    "        f_2 = 2 * self.b * (y - x ** 2)\n",
    "        return f_1,f_2\n",
    "\n",
    "    def Hess(self,x):\n",
    "        f_11 = 2 + 12 * self.b * x[0] ** 2 - 4 * self.b * x[1]\n",
    "        f_12 = -4 * self.b * x[0]\n",
    "        f_22 = 2 * self.b\n",
    "        return np.array([[f_11,f_12],[f_12,f_22]])"
   ],
   "metadata": {
    "collapsed": false
   }
  }
 ],
 "metadata": {
  "kernelspec": {
   "display_name": "Python 3",
   "language": "python",
   "name": "python3"
  },
  "language_info": {
   "codemirror_mode": {
    "name": "ipython",
    "version": 2
   },
   "file_extension": ".py",
   "mimetype": "text/x-python",
   "name": "python",
   "nbconvert_exporter": "python",
   "pygments_lexer": "ipython2",
   "version": "2.7.6"
  }
 },
 "nbformat": 4,
 "nbformat_minor": 0
}
